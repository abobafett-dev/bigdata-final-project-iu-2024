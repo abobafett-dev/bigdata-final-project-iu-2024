{
 "cells": [
  {
   "cell_type": "markdown",
   "id": "0635285d-5589-4eeb-9091-9dd2143b3492",
   "metadata": {
    "tags": []
   },
   "source": [
    "# Connect to Hive"
   ]
  },
  {
   "cell_type": "code",
   "execution_count": 1,
   "id": "d4d77bfb-132e-422c-9933-69d0df5685dd",
   "metadata": {},
   "outputs": [],
   "source": [
    "import math\n",
    "from pprint import pprint\n",
    "from pyspark.sql import SparkSession\n",
    "from pyspark.ml import Pipeline\n",
    "from pyspark.sql.window import Window\n",
    "from pyspark.ml.feature import StringIndexer, VectorAssembler\n",
    "from pyspark.ml.tuning import ParamGridBuilder, CrossValidator\n",
    "from pyspark.ml.regression import LinearRegression, GBTRegressor, RandomForestRegressor\n",
    "from pyspark.ml.evaluation import RegressionEvaluator\n",
    "from pyspark.sql.functions import when, avg, coalesce, date_format, sin, cos\n",
    "\n",
    "# Add here your team number teamx\n",
    "team = \"team7\"\n",
    "\n",
    "# location of your Hive database in HDFS\n",
    "warehouse = \"project/hive/warehouse\"\n",
    "\n",
    "# spark = SparkSession.builder\\\n",
    "#     .appName(\"{} - spark ML\".format(team))\\\n",
    "#     .master(\"yarn\")\\\n",
    "#     .config(\"hive.metastore.uris\", \"thrift://hadoop-02.uni.innopolis.ru:9883\")\\\n",
    "#     .config(\"spark.sql.warehouse.dir\", warehouse)\\\n",
    "#     .config(\"spark.sql.avro.compression.codec\", \"snappy\")\\\n",
    "#     .enableHiveSupport()\\\n",
    "#     .getOrCreate()\n",
    "\n",
    "spark = SparkSession.builder\\\n",
    "    .appName(\"{} - spark ML\".format(team))\\\n",
    "    .master(\"yarn\")\\\n",
    "    .config(\"spark.executor.instances\", 32)\\\n",
    "    .config(\"hive.metastore.uris\", \"thrift://hadoop-02.uni.innopolis.ru:9883\")\\\n",
    "    .config(\"spark.sql.warehouse.dir\", warehouse)\\\n",
    "    .config(\"spark.sql.avro.compression.codec\", \"snappy\")\\\n",
    "    .enableHiveSupport()\\\n",
    "    .getOrCreate()\n",
    "\n",
    "sc = spark.sparkContext"
   ]
  },
  {
   "cell_type": "code",
   "execution_count": 2,
   "id": "ab0a0875-0d8c-4f48-a65b-230e11c46d38",
   "metadata": {},
   "outputs": [
    {
     "data": {
      "text/html": [
       "\n",
       "            <div>\n",
       "                <p><b>SparkSession - hive</b></p>\n",
       "                \n",
       "        <div>\n",
       "            <p><b>SparkContext</b></p>\n",
       "\n",
       "            <p><a href=\"http://hadoop-01.uni.innopolis.ru:4142\">Spark UI</a></p>\n",
       "\n",
       "            <dl>\n",
       "              <dt>Version</dt>\n",
       "                <dd><code>v3.2.4</code></dd>\n",
       "              <dt>Master</dt>\n",
       "                <dd><code>yarn</code></dd>\n",
       "              <dt>AppName</dt>\n",
       "                <dd><code>team7 - spark ML</code></dd>\n",
       "            </dl>\n",
       "        </div>\n",
       "        \n",
       "            </div>\n",
       "        "
      ],
      "text/plain": [
       "<pyspark.sql.session.SparkSession at 0x7fa2a96de828>"
      ]
     },
     "execution_count": 2,
     "metadata": {},
     "output_type": "execute_result"
    }
   ],
   "source": [
    "spark"
   ]
  },
  {
   "cell_type": "markdown",
   "id": "ebbc89ee-c475-47d1-b000-a800563a8870",
   "metadata": {},
   "source": [
    "# list Hive databases"
   ]
  },
  {
   "cell_type": "code",
   "execution_count": 3,
   "id": "e2631136-e462-4815-a807-d1bd4bc3f7a8",
   "metadata": {},
   "outputs": [
    {
     "name": "stdout",
     "output_type": "stream",
     "text": [
      "+--------------------+\n",
      "|           namespace|\n",
      "+--------------------+\n",
      "|             default|\n",
      "|             root_db|\n",
      "|     team0_projectdb|\n",
      "|team12_hive_proje...|\n",
      "|    team13_projectdb|\n",
      "|    team14_projectdb|\n",
      "|    team15_projectdb|\n",
      "|    team16_projectdb|\n",
      "|    team18_projectdb|\n",
      "|    team19_projectdb|\n",
      "|     team1_projectdb|\n",
      "|    team20_projectdb|\n",
      "|    team21_projectdb|\n",
      "|    team22_projectdb|\n",
      "|    team23_projectdb|\n",
      "|    team25_projectdb|\n",
      "|    team26_projectdb|\n",
      "|    team28_projectdb|\n",
      "|    team29_projectdb|\n",
      "|     team2_projectdb|\n",
      "+--------------------+\n",
      "only showing top 20 rows\n",
      "\n"
     ]
    }
   ],
   "source": [
    "spark.sql(\"SHOW DATABASES;\").show()"
   ]
  },
  {
   "cell_type": "markdown",
   "id": "c69a1fe4-d2d3-4fb0-9533-59f61a917d05",
   "metadata": {},
   "source": [
    "# Specify the input and output features"
   ]
  },
  {
   "cell_type": "code",
   "execution_count": 4,
   "id": "018f48d1-6fde-4ff5-b7ce-4eed719a7774",
   "metadata": {},
   "outputs": [],
   "source": [
    "# We will use the following features\n",
    "# Excluede 'description' because there will be no text processing here\n",
    "# Excluded all 'id's because it not relevant for model\n",
    "features = [\n",
    "    'family', 'onpromotion', 'store_nbr',  # main table\n",
    "    'dcoilwtico',  # oil table\n",
    "    'city', 'state', 'type', 'cluster',  # stores table\n",
    "    'transactions',  # transactions table\n",
    "    'year', 'month', 'day']  # encoded dates\n",
    "\n",
    "# The output/target of our model\n",
    "label = 'sales'"
   ]
  },
  {
   "cell_type": "markdown",
   "id": "2f5bf565-af4e-49d4-bf45-ca1e1baf971f",
   "metadata": {},
   "source": [
    "# Read hive tables"
   ]
  },
  {
   "cell_type": "code",
   "execution_count": 5,
   "id": "3376ccfd-3045-4c2d-9800-19ea2da702b3",
   "metadata": {},
   "outputs": [],
   "source": [
    "main = spark.read.format(\"avro\").table('team7_projectdb.main_part')\n",
    "oil = spark.read.format(\"avro\").table('team7_projectdb.oil')\n",
    "hol_events = spark.read.format(\"avro\").table('team7_projectdb.holidays_events')\n",
    "stores = spark.read.format(\"avro\").table('team7_projectdb.stores')\n",
    "transactions = spark.read.format(\"avro\").table('team7_projectdb.transactions')"
   ]
  },
  {
   "cell_type": "markdown",
   "id": "60e05e6d-b953-4dd6-84ae-dbeac729dc76",
   "metadata": {},
   "source": [
    "# Feature selection"
   ]
  },
  {
   "cell_type": "code",
   "execution_count": 6,
   "id": "621c472e-528d-44fa-9339-b0767b1ac916",
   "metadata": {},
   "outputs": [],
   "source": [
    "encode_main = ['family']\n",
    "encode_stores = ['city', 'state', 'type_store']"
   ]
  },
  {
   "cell_type": "markdown",
   "id": "5a71bafe-c88b-47d2-accc-a9ca27f3a95d",
   "metadata": {},
   "source": [
    "# Feature extraction"
   ]
  },
  {
   "cell_type": "code",
   "execution_count": 7,
   "id": "fd12d652-09cc-44a7-8f00-2c3f585bbb45",
   "metadata": {},
   "outputs": [
    {
     "name": "stdout",
     "output_type": "stream",
     "text": [
      "+-----+--------------------+\n",
      "|label|            features|\n",
      "+-----+--------------------+\n",
      "|  0.0|(18,[0,9,12,13,14...|\n",
      "|  0.0|(18,[0,2,9,12,13,...|\n",
      "|  0.0|(18,[0,2,9,12,13,...|\n",
      "|  0.0|(18,[0,2,9,12,13,...|\n",
      "|  0.0|(18,[0,2,9,12,13,...|\n",
      "|  0.0|(18,[0,2,9,12,13,...|\n",
      "|  0.0|(18,[0,2,9,12,13,...|\n",
      "|  0.0|(18,[0,2,9,12,13,...|\n",
      "|  0.0|(18,[0,2,9,12,13,...|\n",
      "|  0.0|(18,[0,2,9,12,13,...|\n",
      "|  0.0|(18,[0,2,9,12,13,...|\n",
      "|  0.0|(18,[0,2,9,12,13,...|\n",
      "|  0.0|(18,[0,2,9,12,13,...|\n",
      "|  0.0|(18,[0,2,9,12,13,...|\n",
      "|  0.0|(18,[0,2,9,12,13,...|\n",
      "|  0.0|(18,[0,2,9,12,13,...|\n",
      "|  0.0|(18,[0,2,9,12,13,...|\n",
      "|  0.0|(18,[0,2,9,12,13,...|\n",
      "|  0.0|(18,[0,2,9,12,13,...|\n",
      "|  0.0|(18,[0,2,9,12,13,...|\n",
      "+-----+--------------------+\n",
      "only showing top 20 rows\n",
      "\n"
     ]
    }
   ],
   "source": [
    "# Table main\n",
    "# Encode categorical features in table main\n",
    "indexers_main = [StringIndexer(inputCol=c, outputCol=\"{0}_indexed\".format(c)).setHandleInvalid(\"skip\") for c in encode_main]\n",
    "pipeline = Pipeline(stages=indexers_main)\n",
    "main = pipeline.fit(main).transform(main).drop(*encode_main + [\"id\"])\n",
    "\n",
    "# Table oil\n",
    "# Fill missing values in oil table with average of neighbors\n",
    "window = Window.rowsBetween(-1, 1)\n",
    "oil = oil.withColumn(\"avg_dcoilwtico\", avg(oil[\"dcoilwtico\"]).over(window))\n",
    "oil = oil.withColumn(\"dcoilwtico\", coalesce(oil[\"dcoilwtico\"], oil[\"avg_dcoilwtico\"]))\n",
    "oil = oil.drop(*[\"avg_dcoilwtico\", \"id\"])\n",
    "\n",
    "# Table holidays_events\n",
    "# Convert boolean \"transferred\" column to integer column\n",
    "hol_events = hol_events.withColumn('transferred', when(hol_events.transferred, 1).otherwise(0)).drop(\"id\")\n",
    "\n",
    "# Table stores\n",
    "# Encode categorical features in table stores\n",
    "stores = stores.withColumnRenamed(\"type\", \"type_store\")\n",
    "indexers_stores = [StringIndexer(inputCol=c, outputCol=\"{0}_indexed\".format(c)).setHandleInvalid(\"skip\") for c in encode_stores]\n",
    "pipeline = Pipeline(stages=indexers_stores)\n",
    "stores = pipeline.fit(stores).transform(stores).drop(*encode_stores)\n",
    "\n",
    "# Table transactions\n",
    "transactions = transactions.drop(\"id\")\n",
    "\n",
    "# Join tables\n",
    "transformed = main \\\n",
    "    .join(oil, on=\"dates\", how=\"left\") \\\n",
    "    .join(hol_events, on=\"dates\", how=\"left\") \\\n",
    "    .join(transactions, on=[\"dates\", \"store_nbr\"], how=\"left\") \\\n",
    "    .join(stores, on=\"store_nbr\", how=\"left\") \\\n",
    "\n",
    "# Split dates to year, month, day\n",
    "transformed = transformed. \\\n",
    "    withColumn(\"year\", date_format(\"dates\", \"yyyy\").cast('int')). \\\n",
    "    withColumn(\"month\", date_format(\"dates\", \"MM\").cast('int')). \\\n",
    "    withColumn(\"day\", date_format(\"dates\", \"dd\").cast('int')). \\\n",
    "    drop(\"dates\")\n",
    "\n",
    "# Sort dataframe by date\n",
    "transformed = transformed.sort([\"year\", \"month\", \"day\"])\n",
    "\n",
    "# Fill na\n",
    "transformed = transformed.fillna(0)\n",
    "\n",
    "# Encode cyclical month and days\n",
    "transformed = transformed.withColumn(\"month_sin\", sin(2 * math.pi * transformed.month / 12))\n",
    "transformed = transformed.withColumn(\"month_cos\", cos(2 * math.pi * transformed.month / 12))\n",
    "transformed = transformed.withColumn(\"day_sin\", sin(2 * math.pi * transformed.day / 31))\n",
    "transformed = transformed.withColumn(\"day_cos\", cos(2 * math.pi * transformed.day / 31))\n",
    "transformed = transformed.drop(*[\"month\", \"day\"])\n",
    "\n",
    "# Assemble all features into single column\n",
    "assembler = VectorAssembler(inputCols=[i for i in transformed.schema.names if i != \"sales\"], outputCol=\"features\")\n",
    "pipeline = Pipeline(stages=[assembler])\n",
    "transformed = pipeline.fit(transformed).transform(transformed)\n",
    "transformed = transformed.select([\"sales\", \"features\"]).withColumnRenamed(\"sales\", \"label\")\n",
    "\n",
    "# Display final table\n",
    "transformed.show()"
   ]
  },
  {
   "cell_type": "markdown",
   "id": "c4fd3df2-8f31-42ed-8f0f-7dfcb795a5e8",
   "metadata": {},
   "source": [
    "# Split the dataset"
   ]
  },
  {
   "cell_type": "code",
   "execution_count": 8,
   "id": "71ca00fb-a991-47d0-8d09-75e5604ed694",
   "metadata": {},
   "outputs": [
    {
     "data": {
      "text/plain": [
       "''"
      ]
     },
     "execution_count": 8,
     "metadata": {},
     "output_type": "execute_result"
    }
   ],
   "source": [
    "train_data = transformed.limit(int(transformed.count() * 0.8))\n",
    "test_data = transformed.subtract(train_data)\n",
    "\n",
    "\n",
    "def run(command):\n",
    "    import os\n",
    "    return os.popen(\"cd ..\\n\" + command).read()\n",
    "\n",
    "\n",
    "train_data.select(\"features\", \"label\").\\\n",
    "    coalesce(1).\\\n",
    "    write.\\\n",
    "    mode(\"overwrite\").\\\n",
    "    format(\"json\").\\\n",
    "    save(\"project/data/train\")\n",
    "\n",
    "# Run it from root directory of the repository\n",
    "run(\"hdfs dfs -cat project/data/train/*.json > data/train.json\")\n",
    "\n",
    "test_data.select(\"features\", \"label\")\\\n",
    "    .coalesce(1)\\\n",
    "    .write\\\n",
    "    .mode(\"overwrite\")\\\n",
    "    .format(\"json\")\\\n",
    "    .save(\"project/data/test\")\n",
    "\n",
    "# Run it from root directory of the repository\n",
    "run(\"hdfs dfs -cat project/data/test/*.json > data/test.json\")"
   ]
  },
  {
   "cell_type": "markdown",
   "id": "12fecd52-189d-45af-841c-47819b311918",
   "metadata": {},
   "source": [
    "# First model"
   ]
  },
  {
   "cell_type": "markdown",
   "id": "6daffa79-5f41-4e78-aa1a-c914f8b3f1f5",
   "metadata": {},
   "source": [
    "## Build a model"
   ]
  },
  {
   "cell_type": "code",
   "execution_count": 9,
   "id": "9892ef1c-f7c4-4acd-8d7d-5630f0823c0c",
   "metadata": {},
   "outputs": [],
   "source": [
    "# Create Linear Regression Model\n",
    "lr = LinearRegression()\n",
    "\n",
    "# Fit the data to the pipeline stages\n",
    "model_lr = lr.fit(train_data)"
   ]
  },
  {
   "cell_type": "markdown",
   "id": "258b1396-77d4-4dd8-8777-d0e6fcbd629f",
   "metadata": {},
   "source": [
    "## Predict for test data"
   ]
  },
  {
   "cell_type": "code",
   "execution_count": 10,
   "id": "b9a0f1ff-a175-4e00-ac1b-a5476dd7dd19",
   "metadata": {},
   "outputs": [
    {
     "name": "stdout",
     "output_type": "stream",
     "text": [
      "+-----+--------------------+------------------+\n",
      "|label|            features|        prediction|\n",
      "+-----+--------------------+------------------+\n",
      "|  0.0|(18,[0,2,9,10,11,...|206.27213973793187|\n",
      "|  0.0|(18,[0,2,9,10,11,...| 188.6857160605723|\n",
      "|  0.0|(18,[0,2,9,10,11,...|-29.65082859296308|\n",
      "|  0.0|(18,[0,2,9,10,11,...|238.97975115597728|\n",
      "|  0.0|(18,[0,2,9,10,11,...|270.62187663342047|\n",
      "|  0.0|(18,[0,2,9,10,12,...| 241.6565731994233|\n",
      "|  0.0|(18,[0,2,9,12,13,...|391.06250452183303|\n",
      "|  0.0|(18,[0,2,9,12,13,...|264.18518732598386|\n",
      "|  0.0|(18,[0,2,9,12,13,...| 502.9187520369924|\n",
      "|  0.0|(18,[0,2,9,12,13,...| 494.9844296604424|\n",
      "|  0.0|(18,[0,2,9,12,13,...| 342.0023355195299|\n",
      "|  0.0|(18,[0,2,9,12,13,...| 314.3912482432461|\n",
      "|  0.0|(18,[0,2,9,12,13,...| 510.0474777482741|\n",
      "|  0.0|(18,[0,2,9,12,13,...| 323.4067162596439|\n",
      "|  0.0|(18,[0,2,9,12,13,...|275.94262579175484|\n",
      "|  0.0|(18,[0,2,9,12,13,...| 263.8783702622168|\n",
      "|  0.0|(18,[0,2,9,12,13,...|195.05600305839107|\n",
      "|  0.0|(18,[0,2,9,12,13,...| 514.7276531788812|\n",
      "|  0.0|(18,[0,2,9,12,13,...|414.85090435070015|\n",
      "|  0.0|(18,[0,2,9,12,13,...|436.46851663793495|\n",
      "+-----+--------------------+------------------+\n",
      "only showing top 20 rows\n",
      "\n"
     ]
    }
   ],
   "source": [
    "predictions = model_lr.transform(test_data)\n",
    "predictions.show()"
   ]
  },
  {
   "cell_type": "markdown",
   "id": "32e97403-59a0-4ec4-b044-678ba6aa2b66",
   "metadata": {},
   "source": [
    "## Evaluate the model"
   ]
  },
  {
   "cell_type": "code",
   "execution_count": 11,
   "id": "c6b166ca-8b62-4995-adca-129021dd6d40",
   "metadata": {},
   "outputs": [
    {
     "name": "stdout",
     "output_type": "stream",
     "text": [
      "Root Mean Squared Error (RMSE) on test data = 1008.5613767098458\n",
      "R^2 on test data = 0.3458129987714744\n"
     ]
    }
   ],
   "source": [
    "# Evaluate the performance of the model\n",
    "evaluator1_rmse = RegressionEvaluator(labelCol=\"label\", predictionCol=\"prediction\", metricName=\"rmse\")\n",
    "evaluator1_r2 = RegressionEvaluator(labelCol=\"label\", predictionCol=\"prediction\", metricName=\"r2\")\n",
    "\n",
    "rmse = evaluator1_rmse.evaluate(predictions)\n",
    "r2 = evaluator1_r2.evaluate(predictions)\n",
    "\n",
    "print(\"Root Mean Squared Error (RMSE) on test data = {}\".format(rmse))\n",
    "print(\"R^2 on test data = {}\".format(r2))"
   ]
  },
  {
   "cell_type": "markdown",
   "id": "b6b0e075-c37c-492a-b894-2f64d4dea72b",
   "metadata": {},
   "source": [
    "## Hyperparameter optimization"
   ]
  },
  {
   "cell_type": "code",
   "execution_count": 12,
   "id": "7e04437d-2bf9-4803-83cc-b7ed17d311e4",
   "metadata": {},
   "outputs": [
    {
     "data": {
      "text/plain": [
       "[Param(parent='LinearRegression_60f14a9d22c3', name='aggregationDepth', doc='suggested depth for treeAggregate (>= 2).'),\n",
       " Param(parent='LinearRegression_60f14a9d22c3', name='elasticNetParam', doc='the ElasticNet mixing parameter, in range [0, 1]. For alpha = 0, the penalty is an L2 penalty. For alpha = 1, it is an L1 penalty.'),\n",
       " Param(parent='LinearRegression_60f14a9d22c3', name='epsilon', doc='The shape parameter to control the amount of robustness. Must be > 1.0. Only valid when loss is huber'),\n",
       " Param(parent='LinearRegression_60f14a9d22c3', name='featuresCol', doc='features column name.'),\n",
       " Param(parent='LinearRegression_60f14a9d22c3', name='fitIntercept', doc='whether to fit an intercept term.'),\n",
       " Param(parent='LinearRegression_60f14a9d22c3', name='labelCol', doc='label column name.'),\n",
       " Param(parent='LinearRegression_60f14a9d22c3', name='loss', doc='The loss function to be optimized. Supported options: squaredError, huber.'),\n",
       " Param(parent='LinearRegression_60f14a9d22c3', name='maxBlockSizeInMB', doc='maximum memory in MB for stacking input data into blocks. Data is stacked within partitions. If more than remaining data size in a partition then it is adjusted to the data size. Default 0.0 represents choosing optimal value, depends on specific algorithm. Must be >= 0.'),\n",
       " Param(parent='LinearRegression_60f14a9d22c3', name='maxIter', doc='max number of iterations (>= 0).'),\n",
       " Param(parent='LinearRegression_60f14a9d22c3', name='predictionCol', doc='prediction column name.'),\n",
       " Param(parent='LinearRegression_60f14a9d22c3', name='regParam', doc='regularization parameter (>= 0).'),\n",
       " Param(parent='LinearRegression_60f14a9d22c3', name='solver', doc='The solver algorithm for optimization. Supported options: auto, normal, l-bfgs.'),\n",
       " Param(parent='LinearRegression_60f14a9d22c3', name='standardization', doc='whether to standardize the training features before fitting the model.'),\n",
       " Param(parent='LinearRegression_60f14a9d22c3', name='tol', doc='the convergence tolerance for iterative algorithms (>= 0).'),\n",
       " Param(parent='LinearRegression_60f14a9d22c3', name='weightCol', doc='weight column name. If this is not set or empty, we treat all instance weights as 1.0.')]"
      ]
     },
     "execution_count": 12,
     "metadata": {},
     "output_type": "execute_result"
    }
   ],
   "source": [
    "model_lr.params"
   ]
  },
  {
   "cell_type": "code",
   "execution_count": 13,
   "id": "9f4388f9-db94-423c-879d-392c90041d95",
   "metadata": {},
   "outputs": [
    {
     "data": {
      "text/plain": [
       "LinearRegressionModel: uid=LinearRegression_60f14a9d22c3, numFeatures=18"
      ]
     },
     "execution_count": 13,
     "metadata": {},
     "output_type": "execute_result"
    }
   ],
   "source": [
    "grid = ParamGridBuilder()\n",
    "grid = grid.addGrid(model_lr.aggregationDepth, [2, 3, 4])\\\n",
    "           .addGrid(model_lr.loss, [\"squaredError\", \"huber\"])\\\n",
    "           .build()\n",
    "\n",
    "cv = CrossValidator(estimator=lr,\n",
    "                    estimatorParamMaps=grid,\n",
    "                    evaluator=evaluator1_r2,\n",
    "                    parallelism=5,\n",
    "                    numFolds=3)\n",
    "\n",
    "cvModel = cv.fit(train_data)\n",
    "bestModel = cvModel.bestModel\n",
    "bestModel"
   ]
  },
  {
   "cell_type": "markdown",
   "id": "8a27e31c-959e-438c-bec0-1f109d7e2c15",
   "metadata": {},
   "source": [
    "## Best model 1\n"
   ]
  },
  {
   "cell_type": "code",
   "execution_count": 14,
   "id": "8d86fc18-eb29-4f03-bfef-ed3aa1daa4fa",
   "metadata": {},
   "outputs": [
    {
     "name": "stdout",
     "output_type": "stream",
     "text": [
      "{Param(parent='LinearRegression_60f14a9d22c3', name='tol', doc='the convergence tolerance for iterative algorithms (>= 0).'): 1e-06,\n",
      " Param(parent='LinearRegression_60f14a9d22c3', name='solver', doc='The solver algorithm for optimization. Supported options: auto, normal, l-bfgs.'): 'auto',\n",
      " Param(parent='LinearRegression_60f14a9d22c3', name='regParam', doc='regularization parameter (>= 0).'): 0.0,\n",
      " Param(parent='LinearRegression_60f14a9d22c3', name='standardization', doc='whether to standardize the training features before fitting the model.'): True,\n",
      " Param(parent='LinearRegression_60f14a9d22c3', name='labelCol', doc='label column name.'): 'label',\n",
      " Param(parent='LinearRegression_60f14a9d22c3', name='maxIter', doc='max number of iterations (>= 0).'): 100,\n",
      " Param(parent='LinearRegression_60f14a9d22c3', name='fitIntercept', doc='whether to fit an intercept term.'): True,\n",
      " Param(parent='LinearRegression_60f14a9d22c3', name='predictionCol', doc='prediction column name.'): 'prediction',\n",
      " Param(parent='LinearRegression_60f14a9d22c3', name='epsilon', doc='The shape parameter to control the amount of robustness. Must be > 1.0. Only valid when loss is huber'): 1.35,\n",
      " Param(parent='LinearRegression_60f14a9d22c3', name='elasticNetParam', doc='the ElasticNet mixing parameter, in range [0, 1]. For alpha = 0, the penalty is an L2 penalty. For alpha = 1, it is an L1 penalty.'): 0.0,\n",
      " Param(parent='LinearRegression_60f14a9d22c3', name='loss', doc='The loss function to be optimized. Supported options: squaredError, huber.'): 'squaredError',\n",
      " Param(parent='LinearRegression_60f14a9d22c3', name='maxBlockSizeInMB', doc='maximum memory in MB for stacking input data into blocks. Data is stacked within partitions. If more than remaining data size in a partition then it is adjusted to the data size. Default 0.0 represents choosing optimal value, depends on specific algorithm. Must be >= 0.'): 0.0,\n",
      " Param(parent='LinearRegression_60f14a9d22c3', name='featuresCol', doc='features column name.'): 'features',\n",
      " Param(parent='LinearRegression_60f14a9d22c3', name='aggregationDepth', doc='suggested depth for treeAggregate (>= 2).'): 3}\n"
     ]
    }
   ],
   "source": [
    "model1 = bestModel\n",
    "pprint(model1.extractParamMap())"
   ]
  },
  {
   "cell_type": "markdown",
   "id": "632f666a-f792-4b50-b38f-b39f9208ab25",
   "metadata": {},
   "source": [
    "## Save the model to HDFS"
   ]
  },
  {
   "cell_type": "code",
   "execution_count": 15,
   "id": "e562da25-53d1-46dc-ac5d-68a6e9041927",
   "metadata": {},
   "outputs": [
    {
     "data": {
      "text/plain": [
       "''"
      ]
     },
     "execution_count": 15,
     "metadata": {},
     "output_type": "execute_result"
    }
   ],
   "source": [
    "model1.write().overwrite().save(\"project/models/model1\")\n",
    "\n",
    "# Run it from root directory of the repository\n",
    "run(\"hdfs dfs -get project/models/model1 models/model1\")"
   ]
  },
  {
   "cell_type": "markdown",
   "id": "f0e9b220-54e1-49ce-802c-fc005d8f63c3",
   "metadata": {},
   "source": [
    "## Predict for test data using best model1"
   ]
  },
  {
   "cell_type": "code",
   "execution_count": 16,
   "id": "cf8a05de-dcae-4bb0-8cf1-de760a62e0fb",
   "metadata": {},
   "outputs": [
    {
     "name": "stdout",
     "output_type": "stream",
     "text": [
      "+-----+--------------------+------------------+\n",
      "|label|            features|        prediction|\n",
      "+-----+--------------------+------------------+\n",
      "|  0.0|(18,[0,2,9,10,11,...|156.46585834069265|\n",
      "|  0.0|(18,[0,2,9,10,11,...|149.06519265946554|\n",
      "|  0.0|(18,[0,2,9,10,11,...|250.70277358208114|\n",
      "|  0.0|(18,[0,2,9,10,11,...| 200.1891585885587|\n",
      "|  0.0|(18,[0,2,9,10,11,...|-50.99772896027571|\n",
      "|  0.0|(18,[0,2,9,10,11,...|-109.2437005925076|\n",
      "|  0.0|(18,[0,2,9,10,11,...|317.80491369681476|\n",
      "|  0.0|(18,[0,2,9,10,11,...|58.035079528650385|\n",
      "|  0.0|(18,[0,2,9,10,11,...| 513.1632305907424|\n",
      "|  0.0|(18,[0,2,9,10,11,...|156.57404779417084|\n",
      "|  0.0|(18,[0,2,9,10,11,...|  71.5611123186718|\n",
      "|  0.0|(18,[0,2,9,10,11,...| 452.1329683750846|\n",
      "|  0.0|(18,[0,2,9,10,11,...|364.83214622467494|\n",
      "|  0.0|(18,[0,2,9,10,11,...|184.61249398128712|\n",
      "|  0.0|(18,[0,2,9,10,11,...| 437.7034495233911|\n",
      "|  0.0|(18,[0,2,9,10,11,...|398.09099764444727|\n",
      "|  0.0|(18,[0,2,9,10,11,...|209.71325532375886|\n",
      "|  0.0|(18,[0,2,9,10,12,...| 137.3472029061686|\n",
      "|  0.0|(18,[0,2,9,10,12,...|-2.685347905544404|\n",
      "|  0.0|(18,[0,2,9,12,13,...|417.50214904060886|\n",
      "+-----+--------------------+------------------+\n",
      "only showing top 20 rows\n",
      "\n"
     ]
    }
   ],
   "source": [
    "predictions = model1.transform(test_data)\n",
    "predictions.show()"
   ]
  },
  {
   "cell_type": "code",
   "execution_count": 17,
   "id": "096936c5-a575-48b7-92d2-be22893e892c",
   "metadata": {},
   "outputs": [
    {
     "data": {
      "text/plain": [
       "''"
      ]
     },
     "execution_count": 17,
     "metadata": {},
     "output_type": "execute_result"
    }
   ],
   "source": [
    "predictions.select(\"label\", \"prediction\")\\\n",
    "    .coalesce(1)\\\n",
    "    .write\\\n",
    "    .mode(\"overwrite\")\\\n",
    "    .format(\"csv\")\\\n",
    "    .option(\"sep\", \",\")\\\n",
    "    .option(\"header\", \"true\")\\\n",
    "    .save(\"project/output/model1_predictions.csv\")\n",
    "\n",
    "# Run it from root directory of the repository\n",
    "run(\"hdfs dfs -cat project/output/model1_predictions.csv/*.csv > output/model1_predictions.csv\")"
   ]
  },
  {
   "cell_type": "markdown",
   "id": "89f9a43d-80ce-4ec1-930f-671a240673d9",
   "metadata": {},
   "source": [
    "## Evaluate the best model1"
   ]
  },
  {
   "cell_type": "code",
   "execution_count": 18,
   "id": "1d0cc0e6-7d0d-4030-a372-375e5e9b84f7",
   "metadata": {},
   "outputs": [
    {
     "name": "stdout",
     "output_type": "stream",
     "text": [
      "Root Mean Squared Error (RMSE) on test data = 1082.8878390771276\n",
      "R^2 on test data = 0.28347856206431354\n"
     ]
    }
   ],
   "source": [
    "# Evaluate the performance of the model\n",
    "evaluator1_rmse = RegressionEvaluator(labelCol=\"label\", predictionCol=\"prediction\", metricName=\"rmse\")\n",
    "evaluator1_r2 = RegressionEvaluator(labelCol=\"label\", predictionCol=\"prediction\", metricName=\"r2\")\n",
    "\n",
    "rmse1 = evaluator1_rmse.evaluate(predictions)\n",
    "r21 = evaluator1_r2.evaluate(predictions)\n",
    "\n",
    "print(\"Root Mean Squared Error (RMSE) on test data = {}\".format(rmse1))\n",
    "print(\"R^2 on test data = {}\".format(r21))"
   ]
  },
  {
   "cell_type": "markdown",
   "id": "5308587c-3e52-41c6-ba7d-494d53cc45b1",
   "metadata": {},
   "source": [
    "# Second model"
   ]
  },
  {
   "cell_type": "markdown",
   "id": "d929b5a0-a159-4c94-ae56-086d3cf52df0",
   "metadata": {},
   "source": [
    "## Build a model"
   ]
  },
  {
   "cell_type": "code",
   "execution_count": 19,
   "id": "55d8981a-e274-4ab7-9d03-fefdc068b51b",
   "metadata": {},
   "outputs": [],
   "source": [
    "# Create Linear Regression Model\n",
    "gbt = GBTRegressor(maxBins=4993, seed=42)\n",
    "\n",
    "# Fit the data to the pipeline stages\n",
    "model_gbt = gbt.fit(train_data)"
   ]
  },
  {
   "cell_type": "markdown",
   "id": "7b1c9a67-fe61-49fe-898f-017df0c4006b",
   "metadata": {},
   "source": [
    "## Predict for test data"
   ]
  },
  {
   "cell_type": "code",
   "execution_count": 20,
   "id": "6cb95001-9d15-4da4-98df-2b87c0c39200",
   "metadata": {},
   "outputs": [
    {
     "name": "stdout",
     "output_type": "stream",
     "text": [
      "+-----+--------------------+-------------------+\n",
      "|label|            features|         prediction|\n",
      "+-----+--------------------+-------------------+\n",
      "|  0.0|(18,[0,2,9,10,11,...| 3.7753098067632216|\n",
      "|  0.0|(18,[0,2,9,10,11,...| 14.217631103790527|\n",
      "|  0.0|(18,[0,2,9,10,11,...|-2.3880762246987284|\n",
      "|  0.0|(18,[0,2,9,10,11,...| -6.128442461716215|\n",
      "|  0.0|(18,[0,2,9,10,11,...|-20.553011284843407|\n",
      "|  0.0|(18,[0,2,9,10,11,...|  69.96485411963971|\n",
      "|  0.0|(18,[0,2,9,10,11,...|-2.3880762246987284|\n",
      "|  0.0|(18,[0,2,9,10,11,...|-10.731848870517034|\n",
      "|  0.0|(18,[0,2,9,10,11,...|  43.06685039576997|\n",
      "|  0.0|(18,[0,2,9,10,11,...| 28.423550310690015|\n",
      "|  0.0|(18,[0,2,9,10,11,...| 24.471793547965735|\n",
      "|  0.0|(18,[0,2,9,10,11,...|  16.44981971070481|\n",
      "|  0.0|(18,[0,2,9,10,11,...| 102.53108441971517|\n",
      "|  0.0|(18,[0,2,9,10,11,...|  6.123211652466696|\n",
      "|  0.0|(18,[0,2,9,10,11,...| 12.498062947980529|\n",
      "|  0.0|(18,[0,2,9,10,11,...|  -6.31517886844145|\n",
      "|  0.0|(18,[0,2,9,10,11,...| -46.66011499153804|\n",
      "|  0.0|(18,[0,2,9,10,11,...|-11.268729230632765|\n",
      "|  0.0|(18,[0,2,9,10,11,...| 140.48649801245946|\n",
      "|  0.0|(18,[0,2,9,10,12,...| 15.238164044385488|\n",
      "+-----+--------------------+-------------------+\n",
      "only showing top 20 rows\n",
      "\n"
     ]
    }
   ],
   "source": [
    "predictions = model_gbt.transform(test_data)\n",
    "predictions.show()"
   ]
  },
  {
   "cell_type": "code",
   "execution_count": 21,
   "id": "8e45a51f-a92e-46c9-a4d9-9033070fad13",
   "metadata": {},
   "outputs": [],
   "source": [
    "predictions = predictions.withColumn(\"prediction\", when(predictions.prediction < 0, 0).otherwise(predictions.prediction))"
   ]
  },
  {
   "cell_type": "markdown",
   "id": "6c94da6f-f913-45ec-a377-d9c42dacb075",
   "metadata": {},
   "source": [
    "## Evaluate the model"
   ]
  },
  {
   "cell_type": "code",
   "execution_count": 22,
   "id": "f3508997-af5a-4882-8fd6-8d0a5be07ccb",
   "metadata": {},
   "outputs": [
    {
     "name": "stdout",
     "output_type": "stream",
     "text": [
      "Root Mean Squared Error (RMSE) on test data = 596.220163047231\n",
      "R^2 on test data = 0.7703978943504188\n"
     ]
    }
   ],
   "source": [
    "# Evaluate the performance of the model\n",
    "evaluator2_rmse = RegressionEvaluator(labelCol=\"label\", predictionCol=\"prediction\", metricName=\"rmse\")\n",
    "evaluator2_r2 = RegressionEvaluator(labelCol=\"label\", predictionCol=\"prediction\", metricName=\"r2\")\n",
    "\n",
    "rmse2 = evaluator2_rmse.evaluate(predictions)\n",
    "r22 = evaluator2_r2.evaluate(predictions)\n",
    "\n",
    "print(\"Root Mean Squared Error (RMSE) on test data = {}\".format(rmse2))\n",
    "print(\"R^2 on test data = {}\".format(r22))"
   ]
  },
  {
   "cell_type": "markdown",
   "id": "943a2d06-39bd-4c71-b0cc-18a63d995949",
   "metadata": {},
   "source": [
    "## Hyperparameter optimization"
   ]
  },
  {
   "cell_type": "code",
   "execution_count": 23,
   "id": "b99e50b9-5090-45ed-bfa7-7ddca0706176",
   "metadata": {},
   "outputs": [
    {
     "data": {
      "text/plain": [
       "[Param(parent='GBTRegressor_899d5f4ba5d9', name='cacheNodeIds', doc='If false, the algorithm will pass trees to executors to match instances with nodes. If true, the algorithm will cache node IDs for each instance. Caching can speed up training of deeper trees. Users can set how often should the cache be checkpointed or disable it by setting checkpointInterval.'),\n",
       " Param(parent='GBTRegressor_899d5f4ba5d9', name='checkpointInterval', doc='set checkpoint interval (>= 1) or disable checkpoint (-1). E.g. 10 means that the cache will get checkpointed every 10 iterations. Note: this setting will be ignored if the checkpoint directory is not set in the SparkContext.'),\n",
       " Param(parent='GBTRegressor_899d5f4ba5d9', name='featureSubsetStrategy', doc=\"The number of features to consider for splits at each tree node. Supported options: 'auto' (choose automatically for task: If numTrees == 1, set to 'all'. If numTrees > 1 (forest), set to 'sqrt' for classification and to 'onethird' for regression), 'all' (use all features), 'onethird' (use 1/3 of the features), 'sqrt' (use sqrt(number of features)), 'log2' (use log2(number of features)), 'n' (when n is in the range (0, 1.0], use n * number of features. When n is in the range (1, number of features), use n features). default = 'auto'\"),\n",
       " Param(parent='GBTRegressor_899d5f4ba5d9', name='featuresCol', doc='features column name.'),\n",
       " Param(parent='GBTRegressor_899d5f4ba5d9', name='impurity', doc='Criterion used for information gain calculation (case-insensitive). Supported options: variance'),\n",
       " Param(parent='GBTRegressor_899d5f4ba5d9', name='labelCol', doc='label column name.'),\n",
       " Param(parent='GBTRegressor_899d5f4ba5d9', name='leafCol', doc='Leaf indices column name. Predicted leaf index of each instance in each tree by preorder.'),\n",
       " Param(parent='GBTRegressor_899d5f4ba5d9', name='lossType', doc='Loss function which GBT tries to minimize (case-insensitive). Supported options: squared, absolute'),\n",
       " Param(parent='GBTRegressor_899d5f4ba5d9', name='maxBins', doc='Max number of bins for discretizing continuous features.  Must be >=2 and >= number of categories for any categorical feature.'),\n",
       " Param(parent='GBTRegressor_899d5f4ba5d9', name='maxDepth', doc='Maximum depth of the tree. (>= 0) E.g., depth 0 means 1 leaf node; depth 1 means 1 internal node + 2 leaf nodes. Must be in range [0, 30].'),\n",
       " Param(parent='GBTRegressor_899d5f4ba5d9', name='maxIter', doc='max number of iterations (>= 0).'),\n",
       " Param(parent='GBTRegressor_899d5f4ba5d9', name='maxMemoryInMB', doc='Maximum memory in MB allocated to histogram aggregation. If too small, then 1 node will be split per iteration, and its aggregates may exceed this size.'),\n",
       " Param(parent='GBTRegressor_899d5f4ba5d9', name='minInfoGain', doc='Minimum information gain for a split to be considered at a tree node.'),\n",
       " Param(parent='GBTRegressor_899d5f4ba5d9', name='minInstancesPerNode', doc='Minimum number of instances each child must have after split. If a split causes the left or right child to have fewer than minInstancesPerNode, the split will be discarded as invalid. Should be >= 1.'),\n",
       " Param(parent='GBTRegressor_899d5f4ba5d9', name='minWeightFractionPerNode', doc='Minimum fraction of the weighted sample count that each child must have after split. If a split causes the fraction of the total weight in the left or right child to be less than minWeightFractionPerNode, the split will be discarded as invalid. Should be in interval [0.0, 0.5).'),\n",
       " Param(parent='GBTRegressor_899d5f4ba5d9', name='predictionCol', doc='prediction column name.'),\n",
       " Param(parent='GBTRegressor_899d5f4ba5d9', name='seed', doc='random seed.'),\n",
       " Param(parent='GBTRegressor_899d5f4ba5d9', name='stepSize', doc='Step size (a.k.a. learning rate) in interval (0, 1] for shrinking the contribution of each estimator.'),\n",
       " Param(parent='GBTRegressor_899d5f4ba5d9', name='subsamplingRate', doc='Fraction of the training data used for learning each decision tree, in range (0, 1].'),\n",
       " Param(parent='GBTRegressor_899d5f4ba5d9', name='validationIndicatorCol', doc='name of the column that indicates whether each row is for training or for validation. False indicates training; true indicates validation.'),\n",
       " Param(parent='GBTRegressor_899d5f4ba5d9', name='validationTol', doc='Threshold for stopping early when fit with validation is used. If the error rate on the validation input changes by less than the validationTol, then learning will stop early (before `maxIter`). This parameter is ignored when fit without validation is used.'),\n",
       " Param(parent='GBTRegressor_899d5f4ba5d9', name='weightCol', doc='weight column name. If this is not set or empty, we treat all instance weights as 1.0.')]"
      ]
     },
     "execution_count": 23,
     "metadata": {},
     "output_type": "execute_result"
    }
   ],
   "source": [
    "model_gbt.params"
   ]
  },
  {
   "cell_type": "code",
   "execution_count": 24,
   "id": "5dea6a22-9f7a-483b-818e-0b4e62f723e3",
   "metadata": {},
   "outputs": [
    {
     "data": {
      "text/plain": [
       "GBTRegressionModel: uid=GBTRegressor_899d5f4ba5d9, numTrees=20, numFeatures=18"
      ]
     },
     "execution_count": 24,
     "metadata": {},
     "output_type": "execute_result"
    }
   ],
   "source": [
    "grid = ParamGridBuilder()\n",
    "grid = grid\\\n",
    "    .addGrid(model_gbt.maxDepth, [2, 5])\\\n",
    "    .addGrid(model_gbt.lossType, ['squared', 'absolute'])\\\n",
    "    .build()\n",
    "\n",
    "cv = CrossValidator(estimator=gbt,\n",
    "                    estimatorParamMaps=grid,\n",
    "                    evaluator=evaluator2_rmse,\n",
    "                    parallelism=5,\n",
    "                    numFolds=3)\n",
    "\n",
    "cvModel = cv.fit(train_data)\n",
    "bestModel = cvModel.bestModel\n",
    "bestModel"
   ]
  },
  {
   "cell_type": "markdown",
   "id": "1524320f-8764-4ed4-b8ff-9d0a43b2ee29",
   "metadata": {},
   "source": [
    "## Best model 2\n"
   ]
  },
  {
   "cell_type": "code",
   "execution_count": 25,
   "id": "ccafef7f-5a51-4370-8572-447f06b92248",
   "metadata": {},
   "outputs": [
    {
     "name": "stdout",
     "output_type": "stream",
     "text": [
      "{Param(parent='GBTRegressor_899d5f4ba5d9', name='checkpointInterval', doc='set checkpoint interval (>= 1) or disable checkpoint (-1). E.g. 10 means that the cache will get checkpointed every 10 iterations. Note: this setting will be ignored if the checkpoint directory is not set in the SparkContext.'): 10,\n",
      " Param(parent='GBTRegressor_899d5f4ba5d9', name='labelCol', doc='label column name.'): 'label',\n",
      " Param(parent='GBTRegressor_899d5f4ba5d9', name='lossType', doc='Loss function which GBT tries to minimize (case-insensitive). Supported options: squared, absolute'): 'squared',\n",
      " Param(parent='GBTRegressor_899d5f4ba5d9', name='leafCol', doc='Leaf indices column name. Predicted leaf index of each instance in each tree by preorder.'): '',\n",
      " Param(parent='GBTRegressor_899d5f4ba5d9', name='featureSubsetStrategy', doc=\"The number of features to consider for splits at each tree node. Supported options: 'auto' (choose automatically for task: If numTrees == 1, set to 'all'. If numTrees > 1 (forest), set to 'sqrt' for classification and to 'onethird' for regression), 'all' (use all features), 'onethird' (use 1/3 of the features), 'sqrt' (use sqrt(number of features)), 'log2' (use log2(number of features)), 'n' (when n is in the range (0, 1.0], use n * number of features. When n is in the range (1, number of features), use n features). default = 'auto'\"): 'all',\n",
      " Param(parent='GBTRegressor_899d5f4ba5d9', name='cacheNodeIds', doc='If false, the algorithm will pass trees to executors to match instances with nodes. If true, the algorithm will cache node IDs for each instance. Caching can speed up training of deeper trees. Users can set how often should the cache be checkpointed or disable it by setting checkpointInterval.'): False,\n",
      " Param(parent='GBTRegressor_899d5f4ba5d9', name='impurity', doc='Criterion used for information gain calculation (case-insensitive). Supported options: variance'): 'variance',\n",
      " Param(parent='GBTRegressor_899d5f4ba5d9', name='featuresCol', doc='features column name.'): 'features',\n",
      " Param(parent='GBTRegressor_899d5f4ba5d9', name='validationTol', doc='Threshold for stopping early when fit with validation is used. If the error rate on the validation input changes by less than the validationTol, then learning will stop early (before `maxIter`). This parameter is ignored when fit without validation is used.'): 0.01,\n",
      " Param(parent='GBTRegressor_899d5f4ba5d9', name='maxMemoryInMB', doc='Maximum memory in MB allocated to histogram aggregation. If too small, then 1 node will be split per iteration, and its aggregates may exceed this size.'): 256,\n",
      " Param(parent='GBTRegressor_899d5f4ba5d9', name='minInstancesPerNode', doc='Minimum number of instances each child must have after split. If a split causes the left or right child to have fewer than minInstancesPerNode, the split will be discarded as invalid. Should be >= 1.'): 1,\n",
      " Param(parent='GBTRegressor_899d5f4ba5d9', name='maxBins', doc='Max number of bins for discretizing continuous features.  Must be >=2 and >= number of categories for any categorical feature.'): 4993,\n",
      " Param(parent='GBTRegressor_899d5f4ba5d9', name='stepSize', doc='Step size (a.k.a. learning rate) in interval (0, 1] for shrinking the contribution of each estimator.'): 0.1,\n",
      " Param(parent='GBTRegressor_899d5f4ba5d9', name='maxDepth', doc='Maximum depth of the tree. (>= 0) E.g., depth 0 means 1 leaf node; depth 1 means 1 internal node + 2 leaf nodes. Must be in range [0, 30].'): 5,\n",
      " Param(parent='GBTRegressor_899d5f4ba5d9', name='maxIter', doc='max number of iterations (>= 0).'): 20,\n",
      " Param(parent='GBTRegressor_899d5f4ba5d9', name='seed', doc='random seed.'): 42,\n",
      " Param(parent='GBTRegressor_899d5f4ba5d9', name='predictionCol', doc='prediction column name.'): 'prediction',\n",
      " Param(parent='GBTRegressor_899d5f4ba5d9', name='minWeightFractionPerNode', doc='Minimum fraction of the weighted sample count that each child must have after split. If a split causes the fraction of the total weight in the left or right child to be less than minWeightFractionPerNode, the split will be discarded as invalid. Should be in interval [0.0, 0.5).'): 0.0,\n",
      " Param(parent='GBTRegressor_899d5f4ba5d9', name='subsamplingRate', doc='Fraction of the training data used for learning each decision tree, in range (0, 1].'): 1.0,\n",
      " Param(parent='GBTRegressor_899d5f4ba5d9', name='minInfoGain', doc='Minimum information gain for a split to be considered at a tree node.'): 0.0}\n"
     ]
    }
   ],
   "source": [
    "model2 = bestModel\n",
    "pprint(model2.extractParamMap())"
   ]
  },
  {
   "cell_type": "markdown",
   "id": "336a3f34-cd0b-4e7e-a0ff-8670bee1e2ef",
   "metadata": {},
   "source": [
    "## Save the model to HDFS"
   ]
  },
  {
   "cell_type": "code",
   "execution_count": 26,
   "id": "098bb094-67c3-4a8b-a52a-95a1f7c7bc74",
   "metadata": {},
   "outputs": [
    {
     "data": {
      "text/plain": [
       "''"
      ]
     },
     "execution_count": 26,
     "metadata": {},
     "output_type": "execute_result"
    }
   ],
   "source": [
    "model2.write().overwrite().save(\"project/models/model2\")\n",
    "\n",
    "# Run it from root directory of the repository\n",
    "run(\"hdfs dfs -get project/models/model2 models/model2\")"
   ]
  },
  {
   "cell_type": "markdown",
   "id": "2220eee3-99d3-44cc-82ab-b941fd5e5e7c",
   "metadata": {},
   "source": [
    "## Predict for test data using best model2"
   ]
  },
  {
   "cell_type": "code",
   "execution_count": 27,
   "id": "10ece2ac-eba7-4d7c-a2eb-f67c47cea21a",
   "metadata": {},
   "outputs": [],
   "source": [
    "predictions = predictions.withColumn(\"prediction\", when(predictions.prediction < 0, 0).otherwise(predictions.prediction))"
   ]
  },
  {
   "cell_type": "code",
   "execution_count": 28,
   "id": "53789d15-33a1-43b2-8e8e-df7627df5de1",
   "metadata": {},
   "outputs": [
    {
     "name": "stdout",
     "output_type": "stream",
     "text": [
      "+-----+--------------------+-------------------+\n",
      "|label|            features|         prediction|\n",
      "+-----+--------------------+-------------------+\n",
      "|  0.0|(18,[0,2,9,10,11,...|  38.14515880052817|\n",
      "|  0.0|(18,[0,2,9,10,11,...|  37.73350817060205|\n",
      "|  0.0|(18,[0,2,9,10,11,...| -4.804385463457203|\n",
      "|  0.0|(18,[0,2,9,10,11,...| 13.513694771588291|\n",
      "|  0.0|(18,[0,2,9,10,11,...|  55.86531986291475|\n",
      "|  0.0|(18,[0,2,9,10,11,...|  52.71693169878639|\n",
      "|  0.0|(18,[0,2,9,10,11,...| -56.60343631227797|\n",
      "|  0.0|(18,[0,2,9,10,11,...|-23.081423373772033|\n",
      "|  0.0|(18,[0,2,9,10,11,...|  53.71329943194769|\n",
      "|  0.0|(18,[0,2,9,10,11,...|  4.896379526389485|\n",
      "|  0.0|(18,[0,2,9,10,11,...|  99.80818302650258|\n",
      "|  0.0|(18,[0,2,9,10,11,...| 23.173417436704316|\n",
      "|  0.0|(18,[0,2,9,10,11,...|  4.896379526389485|\n",
      "|  0.0|(18,[0,2,9,10,11,...|-26.146546365804433|\n",
      "|  0.0|(18,[0,2,9,10,11,...|-31.397062129813463|\n",
      "|  0.0|(18,[0,2,9,10,11,...|-26.146546365804433|\n",
      "|  0.0|(18,[0,2,9,10,11,...|  40.11414467379731|\n",
      "|  0.0|(18,[0,2,9,10,11,...| 16.647353215647726|\n",
      "|  0.0|(18,[0,2,9,10,11,...|-16.261781563015884|\n",
      "|  0.0|(18,[0,2,9,10,11,...| 1.9573742971236783|\n",
      "+-----+--------------------+-------------------+\n",
      "only showing top 20 rows\n",
      "\n"
     ]
    }
   ],
   "source": [
    "predictions = model2.transform(test_data)\n",
    "predictions.show()"
   ]
  },
  {
   "cell_type": "code",
   "execution_count": 29,
   "id": "52df5365-5d86-407f-b71a-878fff80b152",
   "metadata": {},
   "outputs": [
    {
     "data": {
      "text/plain": [
       "''"
      ]
     },
     "execution_count": 29,
     "metadata": {},
     "output_type": "execute_result"
    }
   ],
   "source": [
    "predictions.select(\"label\", \"prediction\")\\\n",
    "    .coalesce(1)\\\n",
    "    .write\\\n",
    "    .mode(\"overwrite\")\\\n",
    "    .format(\"csv\")\\\n",
    "    .option(\"sep\", \",\")\\\n",
    "    .option(\"header\", \"true\")\\\n",
    "    .save(\"project/output/model2_predictions.csv\")\n",
    "\n",
    "# Run it from root directory of the repository\n",
    "run(\"hdfs dfs -cat project/output/model2_predictions.csv/*.csv > output/model2_predictions.csv\")"
   ]
  },
  {
   "cell_type": "markdown",
   "id": "64f9e394-a65a-4cb3-b9c8-1036fd3a443a",
   "metadata": {},
   "source": [
    "## Evaluate the best model2"
   ]
  },
  {
   "cell_type": "code",
   "execution_count": 30,
   "id": "2e83b832-0088-4e95-95fc-768bc13d70ee",
   "metadata": {},
   "outputs": [
    {
     "name": "stdout",
     "output_type": "stream",
     "text": [
      "Root Mean Squared Error (RMSE) on test data = 675.6849929246447\n",
      "R^2 on test data = 0.7613964461484728\n"
     ]
    }
   ],
   "source": [
    "# Evaluate the performance of the model\n",
    "evaluator2_rmse = RegressionEvaluator(labelCol=\"label\", predictionCol=\"prediction\", metricName=\"rmse\")\n",
    "evaluator2_r2 = RegressionEvaluator(labelCol=\"label\", predictionCol=\"prediction\", metricName=\"r2\")\n",
    "\n",
    "rmse2 = evaluator2_rmse.evaluate(predictions)\n",
    "r22 = evaluator2_r2.evaluate(predictions)\n",
    "\n",
    "print(\"Root Mean Squared Error (RMSE) on test data = {}\".format(rmse2))\n",
    "print(\"R^2 on test data = {}\".format(r22))"
   ]
  },
  {
   "cell_type": "markdown",
   "id": "6bba151c-f418-4022-a06f-df575729515e",
   "metadata": {},
   "source": [
    "# Third model"
   ]
  },
  {
   "cell_type": "code",
   "execution_count": 31,
   "id": "ff28c980-6316-4500-b457-71eef7026dad",
   "metadata": {},
   "outputs": [],
   "source": [
    "# Create Linear Regression Model\n",
    "rfr = RandomForestRegressor(maxBins=4993, seed=42)\n",
    "\n",
    "# Fit the data to the pipeline stages\n",
    "model_rfr = gbt.fit(train_data)"
   ]
  },
  {
   "cell_type": "code",
   "execution_count": 32,
   "id": "eea1c14a-ed98-43e4-90a3-4a3fe724c530",
   "metadata": {},
   "outputs": [
    {
     "name": "stdout",
     "output_type": "stream",
     "text": [
      "+-----+--------------------+-------------------+\n",
      "|label|            features|         prediction|\n",
      "+-----+--------------------+-------------------+\n",
      "|  0.0|(18,[0,2,9,10,11,...| 23.836159761211782|\n",
      "|  0.0|(18,[0,2,9,10,11,...|  10.30450638673183|\n",
      "|  0.0|(18,[0,2,9,10,11,...|  484.9025319453021|\n",
      "|  0.0|(18,[0,2,9,10,11,...| 1963.3844006941072|\n",
      "|  0.0|(18,[0,2,9,10,11,...|  66.43129750266876|\n",
      "|  0.0|(18,[0,2,9,10,11,...|  9.513321416016899|\n",
      "|  0.0|(18,[0,2,9,10,11,...|-14.162242391867778|\n",
      "|  0.0|(18,[0,2,9,10,11,...|-3.9299335318062845|\n",
      "|  0.0|(18,[0,2,9,10,11,...| -3.183196662098368|\n",
      "|  0.0|(18,[0,2,9,10,11,...|  76.28277581146611|\n",
      "|  0.0|(18,[0,2,9,10,11,...| 117.96027849990314|\n",
      "|  0.0|(18,[0,2,9,10,11,...| 16.420251200464943|\n",
      "|  0.0|(18,[0,2,9,10,11,...| 18.154493938185688|\n",
      "|  0.0|(18,[0,2,9,10,11,...| 123.44271099478156|\n",
      "|  0.0|(18,[0,2,9,10,11,...|  35.08327606301023|\n",
      "|  0.0|(18,[0,2,9,10,11,...|  35.63237161413732|\n",
      "|  0.0|(18,[0,2,9,10,11,...|  12.03620864513039|\n",
      "|  0.0|(18,[0,2,9,10,11,...| -21.78572007270131|\n",
      "|  0.0|(18,[0,2,9,10,11,...| 132.65238992879858|\n",
      "|  0.0|(18,[0,2,9,10,11,...| -4.883226398737071|\n",
      "+-----+--------------------+-------------------+\n",
      "only showing top 20 rows\n",
      "\n"
     ]
    }
   ],
   "source": [
    "predictions = model_rfr.transform(test_data)\n",
    "predictions.show()"
   ]
  },
  {
   "cell_type": "code",
   "execution_count": 33,
   "id": "cc9cc712-2274-498e-a05b-51c51b6c2e39",
   "metadata": {},
   "outputs": [],
   "source": [
    "predictions = predictions.withColumn(\"prediction\", when(predictions.prediction < 0, 0).otherwise(predictions.prediction))"
   ]
  },
  {
   "cell_type": "code",
   "execution_count": 34,
   "id": "43035ab7-f7a1-42d8-b5ee-5085b508a59c",
   "metadata": {},
   "outputs": [
    {
     "name": "stdout",
     "output_type": "stream",
     "text": [
      "Root Mean Squared Error (RMSE) on test data = 546.2336557106364\n",
      "R^2 on test data = 0.6526316922849664\n"
     ]
    }
   ],
   "source": [
    "# Evaluate the performance of the model\n",
    "evaluator3_rmse = RegressionEvaluator(labelCol=\"label\", predictionCol=\"prediction\", metricName=\"rmse\")\n",
    "evaluator3_r2 = RegressionEvaluator(labelCol=\"label\", predictionCol=\"prediction\", metricName=\"r2\")\n",
    "\n",
    "rmse3 = evaluator3_rmse.evaluate(predictions)\n",
    "r23 = evaluator3_r2.evaluate(predictions)\n",
    "\n",
    "print(\"Root Mean Squared Error (RMSE) on test data = {}\".format(rmse3))\n",
    "print(\"R^2 on test data = {}\".format(r23))"
   ]
  },
  {
   "cell_type": "code",
   "execution_count": 35,
   "id": "cf289492-8b63-4b3f-aa95-31288b2069e7",
   "metadata": {},
   "outputs": [
    {
     "data": {
      "text/plain": [
       "[Param(parent='GBTRegressor_899d5f4ba5d9', name='cacheNodeIds', doc='If false, the algorithm will pass trees to executors to match instances with nodes. If true, the algorithm will cache node IDs for each instance. Caching can speed up training of deeper trees. Users can set how often should the cache be checkpointed or disable it by setting checkpointInterval.'),\n",
       " Param(parent='GBTRegressor_899d5f4ba5d9', name='checkpointInterval', doc='set checkpoint interval (>= 1) or disable checkpoint (-1). E.g. 10 means that the cache will get checkpointed every 10 iterations. Note: this setting will be ignored if the checkpoint directory is not set in the SparkContext.'),\n",
       " Param(parent='GBTRegressor_899d5f4ba5d9', name='featureSubsetStrategy', doc=\"The number of features to consider for splits at each tree node. Supported options: 'auto' (choose automatically for task: If numTrees == 1, set to 'all'. If numTrees > 1 (forest), set to 'sqrt' for classification and to 'onethird' for regression), 'all' (use all features), 'onethird' (use 1/3 of the features), 'sqrt' (use sqrt(number of features)), 'log2' (use log2(number of features)), 'n' (when n is in the range (0, 1.0], use n * number of features. When n is in the range (1, number of features), use n features). default = 'auto'\"),\n",
       " Param(parent='GBTRegressor_899d5f4ba5d9', name='featuresCol', doc='features column name.'),\n",
       " Param(parent='GBTRegressor_899d5f4ba5d9', name='impurity', doc='Criterion used for information gain calculation (case-insensitive). Supported options: variance'),\n",
       " Param(parent='GBTRegressor_899d5f4ba5d9', name='labelCol', doc='label column name.'),\n",
       " Param(parent='GBTRegressor_899d5f4ba5d9', name='leafCol', doc='Leaf indices column name. Predicted leaf index of each instance in each tree by preorder.'),\n",
       " Param(parent='GBTRegressor_899d5f4ba5d9', name='lossType', doc='Loss function which GBT tries to minimize (case-insensitive). Supported options: squared, absolute'),\n",
       " Param(parent='GBTRegressor_899d5f4ba5d9', name='maxBins', doc='Max number of bins for discretizing continuous features.  Must be >=2 and >= number of categories for any categorical feature.'),\n",
       " Param(parent='GBTRegressor_899d5f4ba5d9', name='maxDepth', doc='Maximum depth of the tree. (>= 0) E.g., depth 0 means 1 leaf node; depth 1 means 1 internal node + 2 leaf nodes. Must be in range [0, 30].'),\n",
       " Param(parent='GBTRegressor_899d5f4ba5d9', name='maxIter', doc='max number of iterations (>= 0).'),\n",
       " Param(parent='GBTRegressor_899d5f4ba5d9', name='maxMemoryInMB', doc='Maximum memory in MB allocated to histogram aggregation. If too small, then 1 node will be split per iteration, and its aggregates may exceed this size.'),\n",
       " Param(parent='GBTRegressor_899d5f4ba5d9', name='minInfoGain', doc='Minimum information gain for a split to be considered at a tree node.'),\n",
       " Param(parent='GBTRegressor_899d5f4ba5d9', name='minInstancesPerNode', doc='Minimum number of instances each child must have after split. If a split causes the left or right child to have fewer than minInstancesPerNode, the split will be discarded as invalid. Should be >= 1.'),\n",
       " Param(parent='GBTRegressor_899d5f4ba5d9', name='minWeightFractionPerNode', doc='Minimum fraction of the weighted sample count that each child must have after split. If a split causes the fraction of the total weight in the left or right child to be less than minWeightFractionPerNode, the split will be discarded as invalid. Should be in interval [0.0, 0.5).'),\n",
       " Param(parent='GBTRegressor_899d5f4ba5d9', name='predictionCol', doc='prediction column name.'),\n",
       " Param(parent='GBTRegressor_899d5f4ba5d9', name='seed', doc='random seed.'),\n",
       " Param(parent='GBTRegressor_899d5f4ba5d9', name='stepSize', doc='Step size (a.k.a. learning rate) in interval (0, 1] for shrinking the contribution of each estimator.'),\n",
       " Param(parent='GBTRegressor_899d5f4ba5d9', name='subsamplingRate', doc='Fraction of the training data used for learning each decision tree, in range (0, 1].'),\n",
       " Param(parent='GBTRegressor_899d5f4ba5d9', name='validationIndicatorCol', doc='name of the column that indicates whether each row is for training or for validation. False indicates training; true indicates validation.'),\n",
       " Param(parent='GBTRegressor_899d5f4ba5d9', name='validationTol', doc='Threshold for stopping early when fit with validation is used. If the error rate on the validation input changes by less than the validationTol, then learning will stop early (before `maxIter`). This parameter is ignored when fit without validation is used.'),\n",
       " Param(parent='GBTRegressor_899d5f4ba5d9', name='weightCol', doc='weight column name. If this is not set or empty, we treat all instance weights as 1.0.')]"
      ]
     },
     "execution_count": 35,
     "metadata": {},
     "output_type": "execute_result"
    }
   ],
   "source": [
    "model_rfr.params"
   ]
  },
  {
   "cell_type": "code",
   "execution_count": 36,
   "id": "492c64bd-9980-4ebe-a9de-be0fc1d07b74",
   "metadata": {},
   "outputs": [
    {
     "data": {
      "text/plain": [
       "RandomForestRegressionModel: uid=RandomForestRegressor_909411dde03c, numTrees=20, numFeatures=18"
      ]
     },
     "execution_count": 36,
     "metadata": {},
     "output_type": "execute_result"
    }
   ],
   "source": [
    "grid = ParamGridBuilder()\n",
    "grid = grid\\\n",
    "    .addGrid(model_rfr.maxDepth, [2, 5])\\\n",
    "    .addGrid(model_rfr.lossType, ['squared', 'absolute'])\\\n",
    "    .build()\n",
    "\n",
    "cv = CrossValidator(estimator=rfr,\n",
    "                    estimatorParamMaps=grid,\n",
    "                    evaluator=evaluator3_rmse,\n",
    "                    parallelism=5,\n",
    "                    numFolds=3)\n",
    "\n",
    "cvModel = cv.fit(train_data)\n",
    "bestModel = cvModel.bestModel\n",
    "bestModel"
   ]
  },
  {
   "cell_type": "code",
   "execution_count": 37,
   "id": "7daf40bd-a8b8-49d8-bb55-38d99340eb5b",
   "metadata": {},
   "outputs": [
    {
     "name": "stdout",
     "output_type": "stream",
     "text": [
      "{Param(parent='RandomForestRegressor_909411dde03c', name='maxMemoryInMB', doc='Maximum memory in MB allocated to histogram aggregation. If too small, then 1 node will be split per iteration, and its aggregates may exceed this size.'): 256,\n",
      " Param(parent='RandomForestRegressor_909411dde03c', name='seed', doc='random seed.'): 42,\n",
      " Param(parent='RandomForestRegressor_909411dde03c', name='minInstancesPerNode', doc='Minimum number of instances each child must have after split. If a split causes the left or right child to have fewer than minInstancesPerNode, the split will be discarded as invalid. Should be >= 1.'): 1,\n",
      " Param(parent='RandomForestRegressor_909411dde03c', name='minWeightFractionPerNode', doc='Minimum fraction of the weighted sample count that each child must have after split. If a split causes the fraction of the total weight in the left or right child to be less than minWeightFractionPerNode, the split will be discarded as invalid. Should be in interval [0.0, 0.5).'): 0.0,\n",
      " Param(parent='RandomForestRegressor_909411dde03c', name='labelCol', doc='label column name.'): 'label',\n",
      " Param(parent='RandomForestRegressor_909411dde03c', name='featuresCol', doc='features column name.'): 'features',\n",
      " Param(parent='RandomForestRegressor_909411dde03c', name='featureSubsetStrategy', doc=\"The number of features to consider for splits at each tree node. Supported options: 'auto' (choose automatically for task: If numTrees == 1, set to 'all'. If numTrees > 1 (forest), set to 'sqrt' for classification and to 'onethird' for regression), 'all' (use all features), 'onethird' (use 1/3 of the features), 'sqrt' (use sqrt(number of features)), 'log2' (use log2(number of features)), 'n' (when n is in the range (0, 1.0], use n * number of features. When n is in the range (1, number of features), use n features). default = 'auto'\"): 'auto',\n",
      " Param(parent='RandomForestRegressor_909411dde03c', name='leafCol', doc='Leaf indices column name. Predicted leaf index of each instance in each tree by preorder.'): '',\n",
      " Param(parent='RandomForestRegressor_909411dde03c', name='minInfoGain', doc='Minimum information gain for a split to be considered at a tree node.'): 0.0,\n",
      " Param(parent='RandomForestRegressor_909411dde03c', name='cacheNodeIds', doc='If false, the algorithm will pass trees to executors to match instances with nodes. If true, the algorithm will cache node IDs for each instance. Caching can speed up training of deeper trees. Users can set how often should the cache be checkpointed or disable it by setting checkpointInterval.'): False,\n",
      " Param(parent='RandomForestRegressor_909411dde03c', name='predictionCol', doc='prediction column name.'): 'prediction',\n",
      " Param(parent='RandomForestRegressor_909411dde03c', name='maxDepth', doc='Maximum depth of the tree. (>= 0) E.g., depth 0 means 1 leaf node; depth 1 means 1 internal node + 2 leaf nodes. Must be in range [0, 30].'): 5,\n",
      " Param(parent='RandomForestRegressor_909411dde03c', name='subsamplingRate', doc='Fraction of the training data used for learning each decision tree, in range (0, 1].'): 1.0,\n",
      " Param(parent='RandomForestRegressor_909411dde03c', name='maxBins', doc='Max number of bins for discretizing continuous features.  Must be >=2 and >= number of categories for any categorical feature.'): 4993,\n",
      " Param(parent='RandomForestRegressor_909411dde03c', name='impurity', doc='Criterion used for information gain calculation (case-insensitive). Supported options: variance'): 'variance',\n",
      " Param(parent='RandomForestRegressor_909411dde03c', name='checkpointInterval', doc='set checkpoint interval (>= 1) or disable checkpoint (-1). E.g. 10 means that the cache will get checkpointed every 10 iterations. Note: this setting will be ignored if the checkpoint directory is not set in the SparkContext.'): 10,\n",
      " Param(parent='RandomForestRegressor_909411dde03c', name='numTrees', doc='Number of trees to train (>= 1).'): 20,\n",
      " Param(parent='RandomForestRegressor_909411dde03c', name='bootstrap', doc='Whether bootstrap samples are used when building trees.'): True}\n"
     ]
    }
   ],
   "source": [
    "model3 = bestModel\n",
    "pprint(model3.extractParamMap())"
   ]
  },
  {
   "cell_type": "code",
   "execution_count": 38,
   "id": "2c55ba71-0f37-44f2-a7e9-f56ae1be54fc",
   "metadata": {},
   "outputs": [
    {
     "data": {
      "text/plain": [
       "''"
      ]
     },
     "execution_count": 38,
     "metadata": {},
     "output_type": "execute_result"
    }
   ],
   "source": [
    "model3.write().overwrite().save(\"project/models/model3\")\n",
    "\n",
    "# Run it from root directory of the repository\n",
    "run(\"hdfs dfs -get project/models/model3 models/model3\")"
   ]
  },
  {
   "cell_type": "code",
   "execution_count": 39,
   "id": "6bf31dc9-1111-4f88-b0f2-4be0f00c782e",
   "metadata": {},
   "outputs": [
    {
     "name": "stdout",
     "output_type": "stream",
     "text": [
      "+-----+--------------------+------------------+\n",
      "|label|            features|        prediction|\n",
      "+-----+--------------------+------------------+\n",
      "|  0.0|(18,[0,2,9,10,11,...| 80.42865093628491|\n",
      "|  0.0|(18,[0,2,9,10,11,...| 65.19999343344023|\n",
      "|  0.0|(18,[0,2,9,10,11,...| 65.86733253560615|\n",
      "|  0.0|(18,[0,2,9,10,11,...| 67.43601823083797|\n",
      "|  0.0|(18,[0,2,9,10,11,...| 66.46880808427643|\n",
      "|  0.0|(18,[0,2,9,10,11,...| 85.09847854720779|\n",
      "|  0.0|(18,[0,2,9,10,11,...|225.69454165831038|\n",
      "|  0.0|(18,[0,2,9,10,11,...| 97.84538582587659|\n",
      "|  0.0|(18,[0,2,9,10,11,...|242.21393954636537|\n",
      "|  0.0|(18,[0,2,9,10,11,...| 59.31526951081719|\n",
      "|  0.0|(18,[0,2,9,10,11,...|237.51580667753632|\n",
      "|  0.0|(18,[0,2,9,10,11,...| 221.6188258043856|\n",
      "|  0.0|(18,[0,2,9,10,11,...| 60.28247965737874|\n",
      "|  0.0|(18,[0,2,9,10,11,...| 61.85116535261055|\n",
      "|  0.0|(18,[0,2,9,10,11,...|175.58054334684405|\n",
      "|  0.0|(18,[0,2,9,10,11,...|175.58054334684405|\n",
      "|  0.0|(18,[0,2,9,10,11,...| 76.00756338928902|\n",
      "|  0.0|(18,[0,2,9,10,12,...| 98.80185046003491|\n",
      "|  0.0|(18,[0,2,9,10,12,...|154.53962092567582|\n",
      "|  0.0|(18,[0,2,9,12,13,...| 388.7672699265713|\n",
      "+-----+--------------------+------------------+\n",
      "only showing top 20 rows\n",
      "\n"
     ]
    }
   ],
   "source": [
    "predictions = model3.transform(test_data)\n",
    "predictions.show()"
   ]
  },
  {
   "cell_type": "code",
   "execution_count": 40,
   "id": "9eba8d3e-09f2-4118-b496-01e77b6ac7c2",
   "metadata": {},
   "outputs": [
    {
     "data": {
      "text/plain": [
       "''"
      ]
     },
     "execution_count": 40,
     "metadata": {},
     "output_type": "execute_result"
    }
   ],
   "source": [
    "predictions.select(\"label\", \"prediction\")\\\n",
    "    .coalesce(1)\\\n",
    "    .write\\\n",
    "    .mode(\"overwrite\")\\\n",
    "    .format(\"csv\")\\\n",
    "    .option(\"sep\", \",\")\\\n",
    "    .option(\"header\", \"true\")\\\n",
    "    .save(\"project/output/model3_predictions.csv\")\n",
    "\n",
    "# Run it from root directory of the repository\n",
    "run(\"hdfs dfs -cat project/output/model3_predictions.csv/*.csv > output/model3_predictions.csv\")"
   ]
  },
  {
   "cell_type": "code",
   "execution_count": 41,
   "id": "e7d3e504-9e86-4f70-9c12-5dee578a6249",
   "metadata": {},
   "outputs": [
    {
     "name": "stdout",
     "output_type": "stream",
     "text": [
      "Root Mean Squared Error (RMSE) on test data = 787.2231305943947\n",
      "R^2 on test data = 0.4588469834619404\n"
     ]
    }
   ],
   "source": [
    "# Evaluate the performance of the model\n",
    "evaluator3_rmse = RegressionEvaluator(labelCol=\"label\", predictionCol=\"prediction\", metricName=\"rmse\")\n",
    "evaluator3_r2 = RegressionEvaluator(labelCol=\"label\", predictionCol=\"prediction\", metricName=\"r2\")\n",
    "\n",
    "rmse3 = evaluator3_rmse.evaluate(predictions)\n",
    "r23 = evaluator3_r2.evaluate(predictions)\n",
    "\n",
    "print(\"Root Mean Squared Error (RMSE) on test data = {}\".format(rmse3))\n",
    "print(\"R^2 on test data = {}\".format(r23))"
   ]
  },
  {
   "cell_type": "markdown",
   "id": "22bd7b48-f536-495a-ac38-90ea1b9014af",
   "metadata": {},
   "source": [
    "# Compare best models"
   ]
  },
  {
   "cell_type": "code",
   "execution_count": 42,
   "id": "8b91f3c3-50ca-4ce1-9dfa-dba7449fbc35",
   "metadata": {},
   "outputs": [
    {
     "name": "stdout",
     "output_type": "stream",
     "text": [
      "+------------------------------------------------------------------------------------------------+------------------+-------------------+\n",
      "|model                                                                                           |RMSE              |R2                 |\n",
      "+------------------------------------------------------------------------------------------------+------------------+-------------------+\n",
      "|LinearRegressionModel: uid=LinearRegression_60f14a9d22c3, numFeatures=18                        |1082.8878390771276|0.28347856206431354|\n",
      "|GBTRegressionModel: uid=GBTRegressor_899d5f4ba5d9, numTrees=20, numFeatures=18                  |675.6849929246447 |0.7613964461484728 |\n",
      "|RandomForestRegressionModel: uid=RandomForestRegressor_909411dde03c, numTrees=20, numFeatures=18|787.2231305943947 |0.4588469834619404 |\n",
      "+------------------------------------------------------------------------------------------------+------------------+-------------------+\n",
      "\n"
     ]
    }
   ],
   "source": [
    "models = [[str(model1), rmse1, r21], [str(model2), rmse2, r22], [str(model3), rmse3, r23]]\n",
    "\n",
    "df = spark.createDataFrame(models, [\"model\", \"RMSE\", \"R2\"])\n",
    "df.show(truncate=False)"
   ]
  },
  {
   "cell_type": "code",
   "execution_count": 43,
   "id": "e008d30b-9489-44a2-84a0-95bcd9608319",
   "metadata": {},
   "outputs": [
    {
     "data": {
      "text/plain": [
       "''"
      ]
     },
     "execution_count": 43,
     "metadata": {},
     "output_type": "execute_result"
    }
   ],
   "source": [
    "df.coalesce(1)\\\n",
    "    .write\\\n",
    "    .mode(\"overwrite\")\\\n",
    "    .format(\"csv\")\\\n",
    "    .option(\"sep\", \",\")\\\n",
    "    .option(\"header\", \"true\")\\\n",
    "    .save(\"project/output/evaluation.csv\")\n",
    "\n",
    "# Run it from root directory of the repository\n",
    "run(\"hdfs dfs -cat project/output/evaluation.csv/*.csv > output/evaluation.csv\")"
   ]
  },
  {
   "cell_type": "code",
   "execution_count": null,
   "id": "757c4a38-3cf2-4ecb-9d0b-06cbb6b03bf9",
   "metadata": {},
   "outputs": [],
   "source": []
  }
 ],
 "metadata": {
  "kernelspec": {
   "display_name": "Pyspark 3",
   "language": "python",
   "name": "python3"
  },
  "language_info": {
   "codemirror_mode": {
    "name": "ipython",
    "version": 3
   },
   "file_extension": ".py",
   "mimetype": "text/x-python",
   "name": "python",
   "nbconvert_exporter": "python",
   "pygments_lexer": "ipython3",
   "version": "3.6.8"
  },
  "toc-autonumbering": true,
  "toc-showtags": false
 },
 "nbformat": 4,
 "nbformat_minor": 5
}
